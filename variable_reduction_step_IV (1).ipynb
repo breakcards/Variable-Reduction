{
 "cells": [
  {
   "cell_type": "code",
   "execution_count": 20,
   "metadata": {},
   "outputs": [],
   "source": [
    "import pandas as pd\n",
    "import numpy as np\n",
    "from tabulate import tabulate\n",
    "from prettytable import PrettyTable\n",
    "from termcolor import cprint\n",
    "from sklearn.preprocessing import StandardScaler\n",
    "from sklearn import preprocessing\n",
    "from sklearn.preprocessing import LabelEncoder\n",
    "from sklearn.feature_selection import VarianceThreshold\n",
    "from sklearn.ensemble import RandomForestClassifier\n",
    "from sklearn.ensemble import RandomForestRegressor\n",
    "from sklearn.feature_selection import SelectFromModel\n",
    "from plotly.offline import iplot\n",
    "import plotly.graph_objs as go\n",
    "import matplotlib.pyplot as plt"
   ]
  },
  {
   "cell_type": "code",
   "execution_count": 21,
   "metadata": {},
   "outputs": [],
   "source": [
    "df=pd.read_csv(\"D:\\Solytics\\Datasets\\scores.csv\")"
   ]
  },
  {
   "cell_type": "code",
   "execution_count": 5,
   "metadata": {},
   "outputs": [],
   "source": [
    "##%% FUNCTION FOR STEPWISE ELIMINATION\n",
    "\n",
    "def stepwise(df):\n",
    "    df=df.fillna(df.mean())\n",
    "    le = LabelEncoder()\n",
    "    cat_cols=list(df.select_dtypes('object').columns)\n",
    "    for fet in cat_cols:\n",
    "        #le.fit(df[fet])\n",
    "        df[fet] = le.fit_transform(df[fet].astype(str))\n",
    "    target=input('ENTER THE TARGET VARIABLE : ')\n",
    "    Target=df[target]\n",
    "    X=df.drop(columns=target)\n",
    "    from mlxtend.feature_selection import SequentialFeatureSelector as SFS\n",
    "    from sklearn.linear_model import LinearRegression\n",
    "    fwd=int(input(\"Forward features to enter :\"))\n",
    "    bwd=int(input(\"Backward features to enter :\"))\n",
    "    if ((fwd!=0 and bwd!=0) and (fwd<bwd) and (fwd<=len(X))):\n",
    "        sffs = SFS(LinearRegression(),\n",
    "         k_features=(fwd,bwd),\n",
    "         forward=True,\n",
    "         floating=True,\n",
    "         cv=0)\n",
    "        sffs.fit(X, Target)\n",
    "        print(sffs.k_feature_names_)\n",
    "    else:\n",
    "        print(\"Invalid inputs\")"
   ]
  },
  {
   "cell_type": "code",
   "execution_count": 7,
   "metadata": {},
   "outputs": [
    {
     "name": "stdout",
     "output_type": "stream",
     "text": [
      "ENTER THE TARGET VARIABLE : BAD\n",
      "Forward features to enter :1\n",
      "Backward features to enter :1\n",
      "Invalid inputs\n"
     ]
    }
   ],
   "source": [
    "stepwise(df)"
   ]
  },
  {
   "cell_type": "code",
   "execution_count": null,
   "metadata": {},
   "outputs": [],
   "source": []
  },
  {
   "cell_type": "code",
   "execution_count": null,
   "metadata": {},
   "outputs": [],
   "source": []
  },
  {
   "cell_type": "code",
   "execution_count": null,
   "metadata": {},
   "outputs": [],
   "source": []
  },
  {
   "cell_type": "code",
   "execution_count": 53,
   "metadata": {},
   "outputs": [],
   "source": [
    "#$$trial\n",
    "\n",
    "import pandas as pd\n",
    "import numpy as np\n",
    "import pandas.core.algorithms as algos\n",
    "from pandas import Series\n",
    "import scipy.stats.stats as stats\n",
    "import re\n",
    "import traceback\n",
    "import string\n",
    "\n",
    "max_bin = 20\n",
    "force_bin = 2\n",
    "\n",
    "def IV(df):\n",
    "    def mono_bin(Y, X, n = max_bin):\n",
    "\n",
    "        df1 = pd.DataFrame({\"X\": X, \"Y\": Y})\n",
    "        justmiss = df1[['X','Y']][df1.X.isnull()]\n",
    "        notmiss = df1[['X','Y']][df1.X.notnull()]\n",
    "        r = 0\n",
    "        while np.abs(r) < 1:\n",
    "            try:\n",
    "                d1 = pd.DataFrame({\"X\": notmiss.X, \"Y\": notmiss.Y, \"Bucket\": pd.qcut(notmiss.X, n)})\n",
    "                d2 = d1.groupby('Bucket', as_index=True)\n",
    "                r, p = stats.spearmanr(d2.mean().X, d2.mean().Y)\n",
    "                n = n - 1 \n",
    "            except Exception as e:\n",
    "                n = n - 1\n",
    "\n",
    "        if len(d2) == 1:\n",
    "            n = force_bin         \n",
    "            bins = algos.quantile(notmiss.X, np.linspace(0, 1, n))\n",
    "            if len(np.unique(bins)) == 2:\n",
    "                bins = np.insert(bins, 0, 1)\n",
    "                bins[1] = bins[1]-(bins[1]/2)\n",
    "            d1 = pd.DataFrame({\"X\": notmiss.X, \"Y\": notmiss.Y, \"Bucket\": pd.cut(notmiss.X, np.unique(bins),include_lowest=True)}) \n",
    "            d2 = d1.groupby('Bucket', as_index=True)\n",
    "\n",
    "        d3 = pd.DataFrame({},index=[])\n",
    "        d3[\"MIN_VALUE\"] = d2.min().X\n",
    "        d3[\"MAX_VALUE\"] = d2.max().X\n",
    "        d3[\"COUNT\"] = d2.count().Y\n",
    "        d3[\"EVENT\"] = d2.sum().Y\n",
    "        d3[\"NONEVENT\"] = d2.count().Y - d2.sum().Y\n",
    "        d3=d3.reset_index(drop=True)\n",
    "\n",
    "        if len(justmiss.index) > 0:\n",
    "            d4 = pd.DataFrame({'MIN_VALUE':np.nan},index=[0])\n",
    "            d4[\"MAX_VALUE\"] = np.nan\n",
    "            d4[\"COUNT\"] = justmiss.count().Y\n",
    "            d4[\"EVENT\"] = justmiss.sum().Y\n",
    "            d4[\"NONEVENT\"] = justmiss.count().Y - justmiss.sum().Y\n",
    "            d3 = d3.append(d4,ignore_index=True)\n",
    "\n",
    "        d3[\"EVENT_RATE\"] = d3.EVENT/d3.COUNT\n",
    "        d3[\"NON_EVENT_RATE\"] = d3.NONEVENT/d3.COUNT\n",
    "        d3[\"DIST_EVENT\"] = d3.EVENT/d3.sum().EVENT\n",
    "        d3[\"DIST_NON_EVENT\"] = d3.NONEVENT/d3.sum().NONEVENT\n",
    "        d3[\"WOE\"] = np.log(d3.DIST_EVENT/d3.DIST_NON_EVENT)\n",
    "        d3[\"IV\"] = (d3.DIST_EVENT-d3.DIST_NON_EVENT)*np.log(d3.DIST_EVENT/d3.DIST_NON_EVENT)\n",
    "        d3[\"VAR_NAME\"] = \"VAR\"\n",
    "        d3 = d3[['VAR_NAME','MIN_VALUE', 'MAX_VALUE', 'COUNT', 'EVENT', 'EVENT_RATE', 'NONEVENT', 'NON_EVENT_RATE', 'DIST_EVENT','DIST_NON_EVENT','WOE', 'IV']]       \n",
    "        d3 = d3.replace([np.inf, -np.inf], 0)\n",
    "        d3.IV = d3.IV.sum()\n",
    "\n",
    "        return(d3)\n",
    "\n",
    "    def char_bin(Y, X):\n",
    "\n",
    "        df1 = pd.DataFrame({\"X\": X, \"Y\": Y})\n",
    "        justmiss = df1[['X','Y']][df1.X.isnull()]\n",
    "        notmiss = df1[['X','Y']][df1.X.notnull()]    \n",
    "        df2 = notmiss.groupby('X',as_index=True)\n",
    "\n",
    "        d3 = pd.DataFrame({},index=[])\n",
    "        d3[\"COUNT\"] = df2.count().Y\n",
    "        d3[\"MIN_VALUE\"] = df2.sum().Y.index\n",
    "        d3[\"MAX_VALUE\"] = d3[\"MIN_VALUE\"]\n",
    "        d3[\"EVENT\"] = df2.sum().Y\n",
    "        d3[\"NONEVENT\"] = df2.count().Y - df2.sum().Y\n",
    "\n",
    "        if len(justmiss.index) > 0:\n",
    "            d4 = pd.DataFrame({'MIN_VALUE':np.nan},index=[0])\n",
    "            d4[\"MAX_VALUE\"] = np.nan\n",
    "            d4[\"COUNT\"] = justmiss.count().Y\n",
    "            d4[\"EVENT\"] = justmiss.sum().Y\n",
    "            d4[\"NONEVENT\"] = justmiss.count().Y - justmiss.sum().Y\n",
    "            d3 = d3.append(d4,ignore_index=True)\n",
    "\n",
    "        d3[\"EVENT_RATE\"] = d3.EVENT/d3.COUNT\n",
    "        d3[\"NON_EVENT_RATE\"] = d3.NONEVENT/d3.COUNT\n",
    "        d3[\"DIST_EVENT\"] = d3.EVENT/d3.sum().EVENT\n",
    "        d3[\"DIST_NON_EVENT\"] = d3.NONEVENT/d3.sum().NONEVENT\n",
    "        d3[\"WOE\"] = np.log(d3.DIST_EVENT/d3.DIST_NON_EVENT)\n",
    "        d3[\"IV\"] = (d3.DIST_EVENT-d3.DIST_NON_EVENT)*np.log(d3.DIST_EVENT/d3.DIST_NON_EVENT)\n",
    "        d3[\"VAR_NAME\"] = \"VAR\"\n",
    "        d3 = d3[['VAR_NAME','MIN_VALUE', 'MAX_VALUE', 'COUNT', 'EVENT', 'EVENT_RATE', 'NONEVENT', 'NON_EVENT_RATE', 'DIST_EVENT','DIST_NON_EVENT','WOE', 'IV']]      \n",
    "        d3 = d3.replace([np.inf, -np.inf], 0)\n",
    "        d3.IV = d3.IV.sum()\n",
    "        d3 = d3.reset_index(drop=True)\n",
    "\n",
    "        return(d3)\n",
    "\n",
    "    def data_vars(df1, target):\n",
    "\n",
    "        stack = traceback.extract_stack()\n",
    "        filename, lineno, function_name, code = stack[-2]\n",
    "        vars_name = re.compile(r'\\((.*?)\\).*$').search(code).groups()[0]\n",
    "        final = (re.findall(r\"[\\w']+\", vars_name))[-1]\n",
    "\n",
    "        x = df1.dtypes.index\n",
    "        count = -1\n",
    "\n",
    "        for i in x:\n",
    "            if i.upper() not in (final.upper()):\n",
    "                if np.issubdtype(df1[i], np.number) and len(Series.unique(df1[i])) > 2:\n",
    "                    conv = mono_bin(target, df1[i])\n",
    "                    conv[\"VAR_NAME\"] = i\n",
    "                    count = count + 1\n",
    "                else:\n",
    "                    conv = char_bin(target, df1[i])\n",
    "                    conv[\"VAR_NAME\"] = i            \n",
    "                    count = count + 1\n",
    "\n",
    "                if count == 0:\n",
    "                    iv_df = conv\n",
    "                else:\n",
    "                    iv_df = iv_df.append(conv,ignore_index=True)\n",
    "\n",
    "        iv = pd.DataFrame({'IV':iv_df.groupby('VAR_NAME').IV.max()})\n",
    "        iv = iv.reset_index()\n",
    "        return(iv_df,iv)\n",
    "    df=df.fillna(df.mean())\n",
    "    le = LabelEncoder()\n",
    "    cat_cols=list(df.select_dtypes('object').columns)\n",
    "    for fet in cat_cols:\n",
    "        #le.fit(df[fet])\n",
    "        df[fet] = le.fit_transform(df[fet].astype(str))\n",
    "    target=input('ENTER THE TARGET VARIABLE : ')\n",
    "    Target=df[target]\n",
    "    final_iv, IV = data_vars(df,Target)\n",
    "    final_iv\n",
    "    final_iv.sort_values(\"VAR_NAME\", inplace = True)\n",
    "    a=final_iv.drop_duplicates(subset =\"VAR_NAME\")\n",
    "    sorted_df=a.sort_values(by=['IV'],ascending=True)\n",
    "    sorted_df\n",
    "    c=sorted_df[\"IV\"]\n",
    "    threshold=float(input ('Enter threshold percentage to delete (in numerical form between 0.1 - 0.9 percent): '))\n",
    "    b=list(np.where(c<threshold)[0])\n",
    "    var=sorted_df['VAR_NAME']\n",
    "    features=var.values[b].tolist()\n",
    "    #d=var.loc[:b]\n",
    "    #x=var.iloc[:b]\n",
    "    #rejected_list=d.columns\n",
    "    #features  ##THIS IS REJECTED LIST\n",
    "    iv_values=sorted_df[\"IV\"]\n",
    "    data={'VAR_NAME':sorted_df[\"VAR_NAME\"],'iV':sorted_df[\"IV\"]}\n",
    "    df1=pd.DataFrame(data)\n",
    "    df1\n",
    "    \n",
    "    b=list(np.where(df1['iV']>threshold)[0])\n",
    "    iv_values1=df1['iV'].values[b].tolist()  ###accepted iv values\n",
    "    columns1=df1['VAR_NAME'].values[b].tolist()   ## accepted column names\n",
    "    b1=list(np.where(df1['iV']<threshold)[0])\n",
    "    iv_values2=df1['iV'].values[b1].tolist()  ###rejected iv values\n",
    "    columns2=df1['VAR_NAME'].values[b1].tolist()   ## rejected column names\n",
    "    def iv_plot(df):\n",
    "        #b=list(np.where(a>threshold)[0])\n",
    "        #x=df.iloc[:,b]\n",
    "        #rejected_list=list(x.columns)\n",
    "        trace = go.Bar(\n",
    "                        x=iv_values2,\n",
    "                        y=columns2,\n",
    "                        marker=dict(color='#32E0C4'),orientation='h'\n",
    "                        #marker_color=colors,\n",
    "                        )\n",
    "        data = [trace]\n",
    "\n",
    "        layout = go.Layout(\n",
    "                       barmode='overlay',\n",
    "                       title=\"COUNT PLOT : {} \",\n",
    "                       xaxis=dict(title=\"column names\"),\n",
    "                       yaxis=dict( title='Missing value percentage')\n",
    "                       )\n",
    "        fig = go.Figure(data=data, layout=layout)\n",
    "        fig.add_trace(go.Bar(x=iv_values1,\n",
    "                             y=columns1,\n",
    "                                #base=0,\n",
    "                                marker_color='lightslategrey',orientation='h'\n",
    "                                #name='revenue'\n",
    "                                ))\n",
    "        fig.update_layout({'plot_bgcolor': 'rgba(0,0,0,0)','paper_bgcolor' : 'rgba(0,0,0,0)'})\n",
    "        fig.update_layout(title_text=\"<b>MISSING VALUE PERCENTAGE<b> \", title_x=0.5)\n",
    "        fig.update_yaxes(title_text='<b>COLUMN NAMES<b>')\n",
    "        fig.update_xaxes(title_text='<b>MISSING VALUE PERCENTAGE<b>')\n",
    "        iplot(fig)\n",
    "    return sorted_df,features,iv_plot(df)\n",
    "    \n",
    "   "
   ]
  },
  {
   "cell_type": "code",
   "execution_count": 54,
   "metadata": {},
   "outputs": [
    {
     "name": "stdout",
     "output_type": "stream",
     "text": [
      "ENTER THE TARGET VARIABLE : BAD\n",
      "Enter threshold percentage to delete (in numerical form between 0.1 - 0.9 percent): 0.2\n"
     ]
    },
    {
     "data": {
      "application/vnd.plotly.v1+json": {
       "config": {
        "linkText": "Export to plot.ly",
        "plotlyServerURL": "https://plot.ly",
        "showLink": false
       },
       "data": [
        {
         "marker": {
          "color": "#32E0C4"
         },
         "orientation": "h",
         "type": "bar",
         "x": [
          0,
          0.00014321879079897486,
          0.0016382074362189523,
          0.0030687558613800973,
          0.008050385635427636,
          0.02021238724533684,
          0.02365890009656125,
          0.033068554766843845,
          0.05823424413088714,
          0.06965935231976197
         ],
         "y": [
          "BAD",
          "REASON",
          "YOJ",
          "DEBTINC",
          "JOB",
          "CLNO",
          "VALUE",
          "MORTDUE",
          "LOAN",
          "NINQ"
         ]
        },
        {
         "marker": {
          "color": "lightslategrey"
         },
         "orientation": "h",
         "type": "bar",
         "x": [
          0.21277620408958306,
          0.25544310740061354,
          0.41067752435125704
         ],
         "y": [
          "CLAGE",
          "DEROG",
          "DELINQ"
         ]
        }
       ],
       "layout": {
        "barmode": "overlay",
        "paper_bgcolor": "rgba(0,0,0,0)",
        "plot_bgcolor": "rgba(0,0,0,0)",
        "template": {
         "data": {
          "bar": [
           {
            "error_x": {
             "color": "#2a3f5f"
            },
            "error_y": {
             "color": "#2a3f5f"
            },
            "marker": {
             "line": {
              "color": "#E5ECF6",
              "width": 0.5
             }
            },
            "type": "bar"
           }
          ],
          "barpolar": [
           {
            "marker": {
             "line": {
              "color": "#E5ECF6",
              "width": 0.5
             }
            },
            "type": "barpolar"
           }
          ],
          "carpet": [
           {
            "aaxis": {
             "endlinecolor": "#2a3f5f",
             "gridcolor": "white",
             "linecolor": "white",
             "minorgridcolor": "white",
             "startlinecolor": "#2a3f5f"
            },
            "baxis": {
             "endlinecolor": "#2a3f5f",
             "gridcolor": "white",
             "linecolor": "white",
             "minorgridcolor": "white",
             "startlinecolor": "#2a3f5f"
            },
            "type": "carpet"
           }
          ],
          "choropleth": [
           {
            "colorbar": {
             "outlinewidth": 0,
             "ticks": ""
            },
            "type": "choropleth"
           }
          ],
          "contour": [
           {
            "colorbar": {
             "outlinewidth": 0,
             "ticks": ""
            },
            "colorscale": [
             [
              0,
              "#0d0887"
             ],
             [
              0.1111111111111111,
              "#46039f"
             ],
             [
              0.2222222222222222,
              "#7201a8"
             ],
             [
              0.3333333333333333,
              "#9c179e"
             ],
             [
              0.4444444444444444,
              "#bd3786"
             ],
             [
              0.5555555555555556,
              "#d8576b"
             ],
             [
              0.6666666666666666,
              "#ed7953"
             ],
             [
              0.7777777777777778,
              "#fb9f3a"
             ],
             [
              0.8888888888888888,
              "#fdca26"
             ],
             [
              1,
              "#f0f921"
             ]
            ],
            "type": "contour"
           }
          ],
          "contourcarpet": [
           {
            "colorbar": {
             "outlinewidth": 0,
             "ticks": ""
            },
            "type": "contourcarpet"
           }
          ],
          "heatmap": [
           {
            "colorbar": {
             "outlinewidth": 0,
             "ticks": ""
            },
            "colorscale": [
             [
              0,
              "#0d0887"
             ],
             [
              0.1111111111111111,
              "#46039f"
             ],
             [
              0.2222222222222222,
              "#7201a8"
             ],
             [
              0.3333333333333333,
              "#9c179e"
             ],
             [
              0.4444444444444444,
              "#bd3786"
             ],
             [
              0.5555555555555556,
              "#d8576b"
             ],
             [
              0.6666666666666666,
              "#ed7953"
             ],
             [
              0.7777777777777778,
              "#fb9f3a"
             ],
             [
              0.8888888888888888,
              "#fdca26"
             ],
             [
              1,
              "#f0f921"
             ]
            ],
            "type": "heatmap"
           }
          ],
          "heatmapgl": [
           {
            "colorbar": {
             "outlinewidth": 0,
             "ticks": ""
            },
            "colorscale": [
             [
              0,
              "#0d0887"
             ],
             [
              0.1111111111111111,
              "#46039f"
             ],
             [
              0.2222222222222222,
              "#7201a8"
             ],
             [
              0.3333333333333333,
              "#9c179e"
             ],
             [
              0.4444444444444444,
              "#bd3786"
             ],
             [
              0.5555555555555556,
              "#d8576b"
             ],
             [
              0.6666666666666666,
              "#ed7953"
             ],
             [
              0.7777777777777778,
              "#fb9f3a"
             ],
             [
              0.8888888888888888,
              "#fdca26"
             ],
             [
              1,
              "#f0f921"
             ]
            ],
            "type": "heatmapgl"
           }
          ],
          "histogram": [
           {
            "marker": {
             "colorbar": {
              "outlinewidth": 0,
              "ticks": ""
             }
            },
            "type": "histogram"
           }
          ],
          "histogram2d": [
           {
            "colorbar": {
             "outlinewidth": 0,
             "ticks": ""
            },
            "colorscale": [
             [
              0,
              "#0d0887"
             ],
             [
              0.1111111111111111,
              "#46039f"
             ],
             [
              0.2222222222222222,
              "#7201a8"
             ],
             [
              0.3333333333333333,
              "#9c179e"
             ],
             [
              0.4444444444444444,
              "#bd3786"
             ],
             [
              0.5555555555555556,
              "#d8576b"
             ],
             [
              0.6666666666666666,
              "#ed7953"
             ],
             [
              0.7777777777777778,
              "#fb9f3a"
             ],
             [
              0.8888888888888888,
              "#fdca26"
             ],
             [
              1,
              "#f0f921"
             ]
            ],
            "type": "histogram2d"
           }
          ],
          "histogram2dcontour": [
           {
            "colorbar": {
             "outlinewidth": 0,
             "ticks": ""
            },
            "colorscale": [
             [
              0,
              "#0d0887"
             ],
             [
              0.1111111111111111,
              "#46039f"
             ],
             [
              0.2222222222222222,
              "#7201a8"
             ],
             [
              0.3333333333333333,
              "#9c179e"
             ],
             [
              0.4444444444444444,
              "#bd3786"
             ],
             [
              0.5555555555555556,
              "#d8576b"
             ],
             [
              0.6666666666666666,
              "#ed7953"
             ],
             [
              0.7777777777777778,
              "#fb9f3a"
             ],
             [
              0.8888888888888888,
              "#fdca26"
             ],
             [
              1,
              "#f0f921"
             ]
            ],
            "type": "histogram2dcontour"
           }
          ],
          "mesh3d": [
           {
            "colorbar": {
             "outlinewidth": 0,
             "ticks": ""
            },
            "type": "mesh3d"
           }
          ],
          "parcoords": [
           {
            "line": {
             "colorbar": {
              "outlinewidth": 0,
              "ticks": ""
             }
            },
            "type": "parcoords"
           }
          ],
          "pie": [
           {
            "automargin": true,
            "type": "pie"
           }
          ],
          "scatter": [
           {
            "marker": {
             "colorbar": {
              "outlinewidth": 0,
              "ticks": ""
             }
            },
            "type": "scatter"
           }
          ],
          "scatter3d": [
           {
            "line": {
             "colorbar": {
              "outlinewidth": 0,
              "ticks": ""
             }
            },
            "marker": {
             "colorbar": {
              "outlinewidth": 0,
              "ticks": ""
             }
            },
            "type": "scatter3d"
           }
          ],
          "scattercarpet": [
           {
            "marker": {
             "colorbar": {
              "outlinewidth": 0,
              "ticks": ""
             }
            },
            "type": "scattercarpet"
           }
          ],
          "scattergeo": [
           {
            "marker": {
             "colorbar": {
              "outlinewidth": 0,
              "ticks": ""
             }
            },
            "type": "scattergeo"
           }
          ],
          "scattergl": [
           {
            "marker": {
             "colorbar": {
              "outlinewidth": 0,
              "ticks": ""
             }
            },
            "type": "scattergl"
           }
          ],
          "scattermapbox": [
           {
            "marker": {
             "colorbar": {
              "outlinewidth": 0,
              "ticks": ""
             }
            },
            "type": "scattermapbox"
           }
          ],
          "scatterpolar": [
           {
            "marker": {
             "colorbar": {
              "outlinewidth": 0,
              "ticks": ""
             }
            },
            "type": "scatterpolar"
           }
          ],
          "scatterpolargl": [
           {
            "marker": {
             "colorbar": {
              "outlinewidth": 0,
              "ticks": ""
             }
            },
            "type": "scatterpolargl"
           }
          ],
          "scatterternary": [
           {
            "marker": {
             "colorbar": {
              "outlinewidth": 0,
              "ticks": ""
             }
            },
            "type": "scatterternary"
           }
          ],
          "surface": [
           {
            "colorbar": {
             "outlinewidth": 0,
             "ticks": ""
            },
            "colorscale": [
             [
              0,
              "#0d0887"
             ],
             [
              0.1111111111111111,
              "#46039f"
             ],
             [
              0.2222222222222222,
              "#7201a8"
             ],
             [
              0.3333333333333333,
              "#9c179e"
             ],
             [
              0.4444444444444444,
              "#bd3786"
             ],
             [
              0.5555555555555556,
              "#d8576b"
             ],
             [
              0.6666666666666666,
              "#ed7953"
             ],
             [
              0.7777777777777778,
              "#fb9f3a"
             ],
             [
              0.8888888888888888,
              "#fdca26"
             ],
             [
              1,
              "#f0f921"
             ]
            ],
            "type": "surface"
           }
          ],
          "table": [
           {
            "cells": {
             "fill": {
              "color": "#EBF0F8"
             },
             "line": {
              "color": "white"
             }
            },
            "header": {
             "fill": {
              "color": "#C8D4E3"
             },
             "line": {
              "color": "white"
             }
            },
            "type": "table"
           }
          ]
         },
         "layout": {
          "annotationdefaults": {
           "arrowcolor": "#2a3f5f",
           "arrowhead": 0,
           "arrowwidth": 1
          },
          "coloraxis": {
           "colorbar": {
            "outlinewidth": 0,
            "ticks": ""
           }
          },
          "colorscale": {
           "diverging": [
            [
             0,
             "#8e0152"
            ],
            [
             0.1,
             "#c51b7d"
            ],
            [
             0.2,
             "#de77ae"
            ],
            [
             0.3,
             "#f1b6da"
            ],
            [
             0.4,
             "#fde0ef"
            ],
            [
             0.5,
             "#f7f7f7"
            ],
            [
             0.6,
             "#e6f5d0"
            ],
            [
             0.7,
             "#b8e186"
            ],
            [
             0.8,
             "#7fbc41"
            ],
            [
             0.9,
             "#4d9221"
            ],
            [
             1,
             "#276419"
            ]
           ],
           "sequential": [
            [
             0,
             "#0d0887"
            ],
            [
             0.1111111111111111,
             "#46039f"
            ],
            [
             0.2222222222222222,
             "#7201a8"
            ],
            [
             0.3333333333333333,
             "#9c179e"
            ],
            [
             0.4444444444444444,
             "#bd3786"
            ],
            [
             0.5555555555555556,
             "#d8576b"
            ],
            [
             0.6666666666666666,
             "#ed7953"
            ],
            [
             0.7777777777777778,
             "#fb9f3a"
            ],
            [
             0.8888888888888888,
             "#fdca26"
            ],
            [
             1,
             "#f0f921"
            ]
           ],
           "sequentialminus": [
            [
             0,
             "#0d0887"
            ],
            [
             0.1111111111111111,
             "#46039f"
            ],
            [
             0.2222222222222222,
             "#7201a8"
            ],
            [
             0.3333333333333333,
             "#9c179e"
            ],
            [
             0.4444444444444444,
             "#bd3786"
            ],
            [
             0.5555555555555556,
             "#d8576b"
            ],
            [
             0.6666666666666666,
             "#ed7953"
            ],
            [
             0.7777777777777778,
             "#fb9f3a"
            ],
            [
             0.8888888888888888,
             "#fdca26"
            ],
            [
             1,
             "#f0f921"
            ]
           ]
          },
          "colorway": [
           "#636efa",
           "#EF553B",
           "#00cc96",
           "#ab63fa",
           "#FFA15A",
           "#19d3f3",
           "#FF6692",
           "#B6E880",
           "#FF97FF",
           "#FECB52"
          ],
          "font": {
           "color": "#2a3f5f"
          },
          "geo": {
           "bgcolor": "white",
           "lakecolor": "white",
           "landcolor": "#E5ECF6",
           "showlakes": true,
           "showland": true,
           "subunitcolor": "white"
          },
          "hoverlabel": {
           "align": "left"
          },
          "hovermode": "closest",
          "mapbox": {
           "style": "light"
          },
          "paper_bgcolor": "white",
          "plot_bgcolor": "#E5ECF6",
          "polar": {
           "angularaxis": {
            "gridcolor": "white",
            "linecolor": "white",
            "ticks": ""
           },
           "bgcolor": "#E5ECF6",
           "radialaxis": {
            "gridcolor": "white",
            "linecolor": "white",
            "ticks": ""
           }
          },
          "scene": {
           "xaxis": {
            "backgroundcolor": "#E5ECF6",
            "gridcolor": "white",
            "gridwidth": 2,
            "linecolor": "white",
            "showbackground": true,
            "ticks": "",
            "zerolinecolor": "white"
           },
           "yaxis": {
            "backgroundcolor": "#E5ECF6",
            "gridcolor": "white",
            "gridwidth": 2,
            "linecolor": "white",
            "showbackground": true,
            "ticks": "",
            "zerolinecolor": "white"
           },
           "zaxis": {
            "backgroundcolor": "#E5ECF6",
            "gridcolor": "white",
            "gridwidth": 2,
            "linecolor": "white",
            "showbackground": true,
            "ticks": "",
            "zerolinecolor": "white"
           }
          },
          "shapedefaults": {
           "line": {
            "color": "#2a3f5f"
           }
          },
          "ternary": {
           "aaxis": {
            "gridcolor": "white",
            "linecolor": "white",
            "ticks": ""
           },
           "baxis": {
            "gridcolor": "white",
            "linecolor": "white",
            "ticks": ""
           },
           "bgcolor": "#E5ECF6",
           "caxis": {
            "gridcolor": "white",
            "linecolor": "white",
            "ticks": ""
           }
          },
          "title": {
           "x": 0.05
          },
          "xaxis": {
           "automargin": true,
           "gridcolor": "white",
           "linecolor": "white",
           "ticks": "",
           "title": {
            "standoff": 15
           },
           "zerolinecolor": "white",
           "zerolinewidth": 2
          },
          "yaxis": {
           "automargin": true,
           "gridcolor": "white",
           "linecolor": "white",
           "ticks": "",
           "title": {
            "standoff": 15
           },
           "zerolinecolor": "white",
           "zerolinewidth": 2
          }
         }
        },
        "title": {
         "text": "<b>MISSING VALUE PERCENTAGE<b> ",
         "x": 0.5
        },
        "xaxis": {
         "title": {
          "text": "<b>MISSING VALUE PERCENTAGE<b>"
         }
        },
        "yaxis": {
         "title": {
          "text": "<b>COLUMN NAMES<b>"
         }
        }
       }
      },
      "text/html": [
       "<div>                            <div id=\"44d98989-785b-4d3f-8faa-0aff1b5e8a7d\" class=\"plotly-graph-div\" style=\"height:525px; width:100%;\"></div>            <script type=\"text/javascript\">                require([\"plotly\"], function(Plotly) {                    window.PLOTLYENV=window.PLOTLYENV || {};                                    if (document.getElementById(\"44d98989-785b-4d3f-8faa-0aff1b5e8a7d\")) {                    Plotly.newPlot(                        \"44d98989-785b-4d3f-8faa-0aff1b5e8a7d\",                        [{\"marker\": {\"color\": \"#32E0C4\"}, \"orientation\": \"h\", \"type\": \"bar\", \"x\": [0.0, 0.00014321879079897486, 0.0016382074362189523, 0.0030687558613800973, 0.008050385635427636, 0.02021238724533684, 0.02365890009656125, 0.033068554766843845, 0.05823424413088714, 0.06965935231976197], \"y\": [\"BAD\", \"REASON\", \"YOJ\", \"DEBTINC\", \"JOB\", \"CLNO\", \"VALUE\", \"MORTDUE\", \"LOAN\", \"NINQ\"]}, {\"marker\": {\"color\": \"lightslategrey\"}, \"orientation\": \"h\", \"type\": \"bar\", \"x\": [0.21277620408958306, 0.25544310740061354, 0.41067752435125704], \"y\": [\"CLAGE\", \"DEROG\", \"DELINQ\"]}],                        {\"barmode\": \"overlay\", \"paper_bgcolor\": \"rgba(0,0,0,0)\", \"plot_bgcolor\": \"rgba(0,0,0,0)\", \"template\": {\"data\": {\"bar\": [{\"error_x\": {\"color\": \"#2a3f5f\"}, \"error_y\": {\"color\": \"#2a3f5f\"}, \"marker\": {\"line\": {\"color\": \"#E5ECF6\", \"width\": 0.5}}, \"type\": \"bar\"}], \"barpolar\": [{\"marker\": {\"line\": {\"color\": \"#E5ECF6\", \"width\": 0.5}}, \"type\": \"barpolar\"}], \"carpet\": [{\"aaxis\": {\"endlinecolor\": \"#2a3f5f\", \"gridcolor\": \"white\", \"linecolor\": \"white\", \"minorgridcolor\": \"white\", \"startlinecolor\": \"#2a3f5f\"}, \"baxis\": {\"endlinecolor\": \"#2a3f5f\", \"gridcolor\": \"white\", \"linecolor\": \"white\", \"minorgridcolor\": \"white\", \"startlinecolor\": \"#2a3f5f\"}, \"type\": \"carpet\"}], \"choropleth\": [{\"colorbar\": {\"outlinewidth\": 0, \"ticks\": \"\"}, \"type\": \"choropleth\"}], \"contour\": [{\"colorbar\": {\"outlinewidth\": 0, \"ticks\": \"\"}, \"colorscale\": [[0.0, \"#0d0887\"], [0.1111111111111111, \"#46039f\"], [0.2222222222222222, \"#7201a8\"], [0.3333333333333333, \"#9c179e\"], [0.4444444444444444, \"#bd3786\"], [0.5555555555555556, \"#d8576b\"], [0.6666666666666666, \"#ed7953\"], [0.7777777777777778, \"#fb9f3a\"], [0.8888888888888888, \"#fdca26\"], [1.0, \"#f0f921\"]], \"type\": \"contour\"}], \"contourcarpet\": [{\"colorbar\": {\"outlinewidth\": 0, \"ticks\": \"\"}, \"type\": \"contourcarpet\"}], \"heatmap\": [{\"colorbar\": {\"outlinewidth\": 0, \"ticks\": \"\"}, \"colorscale\": [[0.0, \"#0d0887\"], [0.1111111111111111, \"#46039f\"], [0.2222222222222222, \"#7201a8\"], [0.3333333333333333, \"#9c179e\"], [0.4444444444444444, \"#bd3786\"], [0.5555555555555556, \"#d8576b\"], [0.6666666666666666, \"#ed7953\"], [0.7777777777777778, \"#fb9f3a\"], [0.8888888888888888, \"#fdca26\"], [1.0, \"#f0f921\"]], \"type\": \"heatmap\"}], \"heatmapgl\": [{\"colorbar\": {\"outlinewidth\": 0, \"ticks\": \"\"}, \"colorscale\": [[0.0, \"#0d0887\"], [0.1111111111111111, \"#46039f\"], [0.2222222222222222, \"#7201a8\"], [0.3333333333333333, \"#9c179e\"], [0.4444444444444444, \"#bd3786\"], [0.5555555555555556, \"#d8576b\"], [0.6666666666666666, \"#ed7953\"], [0.7777777777777778, \"#fb9f3a\"], [0.8888888888888888, \"#fdca26\"], [1.0, \"#f0f921\"]], \"type\": \"heatmapgl\"}], \"histogram\": [{\"marker\": {\"colorbar\": {\"outlinewidth\": 0, \"ticks\": \"\"}}, \"type\": \"histogram\"}], \"histogram2d\": [{\"colorbar\": {\"outlinewidth\": 0, \"ticks\": \"\"}, \"colorscale\": [[0.0, \"#0d0887\"], [0.1111111111111111, \"#46039f\"], [0.2222222222222222, \"#7201a8\"], [0.3333333333333333, \"#9c179e\"], [0.4444444444444444, \"#bd3786\"], [0.5555555555555556, \"#d8576b\"], [0.6666666666666666, \"#ed7953\"], [0.7777777777777778, \"#fb9f3a\"], [0.8888888888888888, \"#fdca26\"], [1.0, \"#f0f921\"]], \"type\": \"histogram2d\"}], \"histogram2dcontour\": [{\"colorbar\": {\"outlinewidth\": 0, \"ticks\": \"\"}, \"colorscale\": [[0.0, \"#0d0887\"], [0.1111111111111111, \"#46039f\"], [0.2222222222222222, \"#7201a8\"], [0.3333333333333333, \"#9c179e\"], [0.4444444444444444, \"#bd3786\"], [0.5555555555555556, \"#d8576b\"], [0.6666666666666666, \"#ed7953\"], [0.7777777777777778, \"#fb9f3a\"], [0.8888888888888888, \"#fdca26\"], [1.0, \"#f0f921\"]], \"type\": \"histogram2dcontour\"}], \"mesh3d\": [{\"colorbar\": {\"outlinewidth\": 0, \"ticks\": \"\"}, \"type\": \"mesh3d\"}], \"parcoords\": [{\"line\": {\"colorbar\": {\"outlinewidth\": 0, \"ticks\": \"\"}}, \"type\": \"parcoords\"}], \"pie\": [{\"automargin\": true, \"type\": \"pie\"}], \"scatter\": [{\"marker\": {\"colorbar\": {\"outlinewidth\": 0, \"ticks\": \"\"}}, \"type\": \"scatter\"}], \"scatter3d\": [{\"line\": {\"colorbar\": {\"outlinewidth\": 0, \"ticks\": \"\"}}, \"marker\": {\"colorbar\": {\"outlinewidth\": 0, \"ticks\": \"\"}}, \"type\": \"scatter3d\"}], \"scattercarpet\": [{\"marker\": {\"colorbar\": {\"outlinewidth\": 0, \"ticks\": \"\"}}, \"type\": \"scattercarpet\"}], \"scattergeo\": [{\"marker\": {\"colorbar\": {\"outlinewidth\": 0, \"ticks\": \"\"}}, \"type\": \"scattergeo\"}], \"scattergl\": [{\"marker\": {\"colorbar\": {\"outlinewidth\": 0, \"ticks\": \"\"}}, \"type\": \"scattergl\"}], \"scattermapbox\": [{\"marker\": {\"colorbar\": {\"outlinewidth\": 0, \"ticks\": \"\"}}, \"type\": \"scattermapbox\"}], \"scatterpolar\": [{\"marker\": {\"colorbar\": {\"outlinewidth\": 0, \"ticks\": \"\"}}, \"type\": \"scatterpolar\"}], \"scatterpolargl\": [{\"marker\": {\"colorbar\": {\"outlinewidth\": 0, \"ticks\": \"\"}}, \"type\": \"scatterpolargl\"}], \"scatterternary\": [{\"marker\": {\"colorbar\": {\"outlinewidth\": 0, \"ticks\": \"\"}}, \"type\": \"scatterternary\"}], \"surface\": [{\"colorbar\": {\"outlinewidth\": 0, \"ticks\": \"\"}, \"colorscale\": [[0.0, \"#0d0887\"], [0.1111111111111111, \"#46039f\"], [0.2222222222222222, \"#7201a8\"], [0.3333333333333333, \"#9c179e\"], [0.4444444444444444, \"#bd3786\"], [0.5555555555555556, \"#d8576b\"], [0.6666666666666666, \"#ed7953\"], [0.7777777777777778, \"#fb9f3a\"], [0.8888888888888888, \"#fdca26\"], [1.0, \"#f0f921\"]], \"type\": \"surface\"}], \"table\": [{\"cells\": {\"fill\": {\"color\": \"#EBF0F8\"}, \"line\": {\"color\": \"white\"}}, \"header\": {\"fill\": {\"color\": \"#C8D4E3\"}, \"line\": {\"color\": \"white\"}}, \"type\": \"table\"}]}, \"layout\": {\"annotationdefaults\": {\"arrowcolor\": \"#2a3f5f\", \"arrowhead\": 0, \"arrowwidth\": 1}, \"coloraxis\": {\"colorbar\": {\"outlinewidth\": 0, \"ticks\": \"\"}}, \"colorscale\": {\"diverging\": [[0, \"#8e0152\"], [0.1, \"#c51b7d\"], [0.2, \"#de77ae\"], [0.3, \"#f1b6da\"], [0.4, \"#fde0ef\"], [0.5, \"#f7f7f7\"], [0.6, \"#e6f5d0\"], [0.7, \"#b8e186\"], [0.8, \"#7fbc41\"], [0.9, \"#4d9221\"], [1, \"#276419\"]], \"sequential\": [[0.0, \"#0d0887\"], [0.1111111111111111, \"#46039f\"], [0.2222222222222222, \"#7201a8\"], [0.3333333333333333, \"#9c179e\"], [0.4444444444444444, \"#bd3786\"], [0.5555555555555556, \"#d8576b\"], [0.6666666666666666, \"#ed7953\"], [0.7777777777777778, \"#fb9f3a\"], [0.8888888888888888, \"#fdca26\"], [1.0, \"#f0f921\"]], \"sequentialminus\": [[0.0, \"#0d0887\"], [0.1111111111111111, \"#46039f\"], [0.2222222222222222, \"#7201a8\"], [0.3333333333333333, \"#9c179e\"], [0.4444444444444444, \"#bd3786\"], [0.5555555555555556, \"#d8576b\"], [0.6666666666666666, \"#ed7953\"], [0.7777777777777778, \"#fb9f3a\"], [0.8888888888888888, \"#fdca26\"], [1.0, \"#f0f921\"]]}, \"colorway\": [\"#636efa\", \"#EF553B\", \"#00cc96\", \"#ab63fa\", \"#FFA15A\", \"#19d3f3\", \"#FF6692\", \"#B6E880\", \"#FF97FF\", \"#FECB52\"], \"font\": {\"color\": \"#2a3f5f\"}, \"geo\": {\"bgcolor\": \"white\", \"lakecolor\": \"white\", \"landcolor\": \"#E5ECF6\", \"showlakes\": true, \"showland\": true, \"subunitcolor\": \"white\"}, \"hoverlabel\": {\"align\": \"left\"}, \"hovermode\": \"closest\", \"mapbox\": {\"style\": \"light\"}, \"paper_bgcolor\": \"white\", \"plot_bgcolor\": \"#E5ECF6\", \"polar\": {\"angularaxis\": {\"gridcolor\": \"white\", \"linecolor\": \"white\", \"ticks\": \"\"}, \"bgcolor\": \"#E5ECF6\", \"radialaxis\": {\"gridcolor\": \"white\", \"linecolor\": \"white\", \"ticks\": \"\"}}, \"scene\": {\"xaxis\": {\"backgroundcolor\": \"#E5ECF6\", \"gridcolor\": \"white\", \"gridwidth\": 2, \"linecolor\": \"white\", \"showbackground\": true, \"ticks\": \"\", \"zerolinecolor\": \"white\"}, \"yaxis\": {\"backgroundcolor\": \"#E5ECF6\", \"gridcolor\": \"white\", \"gridwidth\": 2, \"linecolor\": \"white\", \"showbackground\": true, \"ticks\": \"\", \"zerolinecolor\": \"white\"}, \"zaxis\": {\"backgroundcolor\": \"#E5ECF6\", \"gridcolor\": \"white\", \"gridwidth\": 2, \"linecolor\": \"white\", \"showbackground\": true, \"ticks\": \"\", \"zerolinecolor\": \"white\"}}, \"shapedefaults\": {\"line\": {\"color\": \"#2a3f5f\"}}, \"ternary\": {\"aaxis\": {\"gridcolor\": \"white\", \"linecolor\": \"white\", \"ticks\": \"\"}, \"baxis\": {\"gridcolor\": \"white\", \"linecolor\": \"white\", \"ticks\": \"\"}, \"bgcolor\": \"#E5ECF6\", \"caxis\": {\"gridcolor\": \"white\", \"linecolor\": \"white\", \"ticks\": \"\"}}, \"title\": {\"x\": 0.05}, \"xaxis\": {\"automargin\": true, \"gridcolor\": \"white\", \"linecolor\": \"white\", \"ticks\": \"\", \"title\": {\"standoff\": 15}, \"zerolinecolor\": \"white\", \"zerolinewidth\": 2}, \"yaxis\": {\"automargin\": true, \"gridcolor\": \"white\", \"linecolor\": \"white\", \"ticks\": \"\", \"title\": {\"standoff\": 15}, \"zerolinecolor\": \"white\", \"zerolinewidth\": 2}}}, \"title\": {\"text\": \"<b>MISSING VALUE PERCENTAGE<b> \", \"x\": 0.5}, \"xaxis\": {\"title\": {\"text\": \"<b>MISSING VALUE PERCENTAGE<b>\"}}, \"yaxis\": {\"title\": {\"text\": \"<b>COLUMN NAMES<b>\"}}},                        {\"responsive\": true}                    ).then(function(){\n",
       "                            \n",
       "var gd = document.getElementById('44d98989-785b-4d3f-8faa-0aff1b5e8a7d');\n",
       "var x = new MutationObserver(function (mutations, observer) {{\n",
       "        var display = window.getComputedStyle(gd).display;\n",
       "        if (!display || display === 'none') {{\n",
       "            console.log([gd, 'removed!']);\n",
       "            Plotly.purge(gd);\n",
       "            observer.disconnect();\n",
       "        }}\n",
       "}});\n",
       "\n",
       "// Listen for the removal of the full notebook cells\n",
       "var notebookContainer = gd.closest('#notebook-container');\n",
       "if (notebookContainer) {{\n",
       "    x.observe(notebookContainer, {childList: true});\n",
       "}}\n",
       "\n",
       "// Listen for the clearing of the current output cell\n",
       "var outputEl = gd.closest('.output');\n",
       "if (outputEl) {{\n",
       "    x.observe(outputEl, {childList: true});\n",
       "}}\n",
       "\n",
       "                        })                };                });            </script>        </div>"
      ]
     },
     "metadata": {},
     "output_type": "display_data"
    },
    {
     "data": {
      "text/plain": [
       "(   VAR_NAME    MIN_VALUE     MAX_VALUE  COUNT  EVENT  EVENT_RATE  NONEVENT  \\\n",
       " 0       BAD     0.000000      0.000000   4771      0    0.000000      4771   \n",
       " 12   REASON     0.000000      1.000000   5708   1141    0.199895      4567   \n",
       " 16      YOJ     0.000000      1.000000    849    183    0.215548       666   \n",
       " 33  DEBTINC     0.524499      0.838118      3      2    0.666667         1   \n",
       " 14      JOB     0.000000      1.000000   1715    304    0.177259      1411   \n",
       " 32     CLNO     2.000000     71.000000   5892   1159    0.196707      4733   \n",
       " 9     VALUE  8000.000000  73764.000000   1987    442    0.222446      1545   \n",
       " 5   MORTDUE  2063.000000  48139.000000   1491    364    0.244131      1127   \n",
       " 2      LOAN  1100.000000  12900.000000   2017    510    0.252851      1507   \n",
       " 29     NINQ     0.000000      1.000000   3870    650    0.167959      3220   \n",
       " 28    CLAGE   267.920922   1168.233561    852     85    0.099765       767   \n",
       " 18    DEROG     0.000000      1.000000   5670   1010    0.178131      4660   \n",
       " 21   DELINQ     2.000000     15.000000    547    312    0.570384       235   \n",
       " \n",
       "     NON_EVENT_RATE  DIST_EVENT  DIST_NON_EVENT       WOE        IV  \n",
       " 0         1.000000    0.000000        1.000000  0.000000  0.000000  \n",
       " 12        0.800105    0.959630        0.957242  0.002492  0.000143  \n",
       " 16        0.784452    0.153911        0.139593  0.097640  0.001638  \n",
       " 33        0.333333    0.001682        0.000210  2.082590  0.003069  \n",
       " 14        0.822741    0.255677        0.295745 -0.145583  0.008050  \n",
       " 32        0.803293    0.974769        0.992035 -0.017558  0.020212  \n",
       " 9         0.777554    0.371741        0.323831  0.137974  0.023659  \n",
       " 5         0.755869    0.306140        0.236219  0.259283  0.033069  \n",
       " 2         0.747149    0.428932        0.315867  0.305978  0.058234  \n",
       " 29        0.832041    0.546678        0.674911 -0.210721  0.069659  \n",
       " 28        0.900235    0.071489        0.160763 -0.810392  0.212776  \n",
       " 18        0.821869    0.849453        0.976734 -0.139622  0.255443  \n",
       " 21        0.429616    0.262405        0.049256  1.672861  0.410678  ,\n",
       " ['BAD',\n",
       "  'REASON',\n",
       "  'YOJ',\n",
       "  'DEBTINC',\n",
       "  'JOB',\n",
       "  'CLNO',\n",
       "  'VALUE',\n",
       "  'MORTDUE',\n",
       "  'LOAN',\n",
       "  'NINQ'],\n",
       " None)"
      ]
     },
     "execution_count": 54,
     "metadata": {},
     "output_type": "execute_result"
    }
   ],
   "source": [
    "IV(df)"
   ]
  },
  {
   "cell_type": "code",
   "execution_count": null,
   "metadata": {},
   "outputs": [],
   "source": [
    "\n"
   ]
  },
  {
   "cell_type": "code",
   "execution_count": null,
   "metadata": {},
   "outputs": [],
   "source": []
  },
  {
   "cell_type": "code",
   "execution_count": null,
   "metadata": {},
   "outputs": [],
   "source": []
  }
 ],
 "metadata": {
  "kernelspec": {
   "display_name": "Python 3",
   "language": "python",
   "name": "python3"
  },
  "language_info": {
   "codemirror_mode": {
    "name": "ipython",
    "version": 3
   },
   "file_extension": ".py",
   "mimetype": "text/x-python",
   "name": "python",
   "nbconvert_exporter": "python",
   "pygments_lexer": "ipython3",
   "version": "3.8.3"
  }
 },
 "nbformat": 4,
 "nbformat_minor": 4
}
